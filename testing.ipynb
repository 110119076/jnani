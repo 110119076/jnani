{
 "cells": [
  {
   "cell_type": "code",
   "execution_count": 1,
   "metadata": {},
   "outputs": [
    {
     "name": "stdout",
     "output_type": "stream",
     "text": [
      "                         Name Code\n",
      "0                     Ecuador   EC\n",
      "1                  Bangladesh   BD\n",
      "2                  Madagascar   MG\n",
      "3                 Saint Lucia   LC\n",
      "4                       Spain   ES\n",
      "..                        ...  ...\n",
      "244                    Guinea   GN\n",
      "245               El Salvador   SV\n",
      "246                   Germany   DE\n",
      "247  Turks and Caicos Islands   TC\n",
      "248                 Lithuania   LT\n",
      "\n",
      "[249 rows x 2 columns]\n"
     ]
    }
   ],
   "source": [
    "import pandas as pd\n",
    "my_file= pd.read_csv(\"C:\\\\Users\\\\Jnani kumar\\\\Downloads\\\\data_csv.csv\")\n",
    "print(my_file)\n"
   ]
  },
  {
   "cell_type": "code",
   "execution_count": null,
   "metadata": {},
   "outputs": [],
   "source": [
    "jnani={y  : x for y in my_file.Code for x in my_file.Name }\n",
    "print(jnani)"
   ]
  }
 ],
 "metadata": {
  "kernelspec": {
   "display_name": "Python 3",
   "language": "python",
   "name": "python3"
  },
  "language_info": {
   "codemirror_mode": {
    "name": "ipython",
    "version": 3
   },
   "file_extension": ".py",
   "mimetype": "text/x-python",
   "name": "python",
   "nbconvert_exporter": "python",
   "pygments_lexer": "ipython3",
   "version": "3.8.5"
  }
 },
 "nbformat": 4,
 "nbformat_minor": 4
}
